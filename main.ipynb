{
 "cells": [
  {
   "attachments": {},
   "cell_type": "markdown",
   "metadata": {},
   "source": [
    "### A Simple Python command to convert colored image to black and white"
   ]
  },
  {
   "cell_type": "code",
   "execution_count": 1,
   "metadata": {},
   "outputs": [],
   "source": [
    "from PIL import Image"
   ]
  },
  {
   "cell_type": "code",
   "execution_count": 2,
   "metadata": {},
   "outputs": [],
   "source": [
    "name = input(\"What is your name? \")"
   ]
  },
  {
   "cell_type": "code",
   "execution_count": 5,
   "metadata": {},
   "outputs": [
    {
     "name": "stdout",
     "output_type": "stream",
     "text": [
      "Welcome Samson\n"
     ]
    }
   ],
   "source": [
    "if 3 < len(name) < 11:\n",
    "  print(\"Welcome \" + name)\n",
    "\n",
    "  file = \"img.jpg\"\n",
    "  img = Image.open(file)\n",
    "  img = img.convert(\"L\")\n",
    "  img.show()\n",
    "\n",
    "else:\n",
    "    print(name + \" is invalid! Try characters from 3-11 letters\")\n"
   ]
  }
 ],
 "metadata": {
  "kernelspec": {
   "display_name": "Python 3",
   "language": "python",
   "name": "python3"
  },
  "language_info": {
   "codemirror_mode": {
    "name": "ipython",
    "version": 3
   },
   "file_extension": ".py",
   "mimetype": "text/x-python",
   "name": "python",
   "nbconvert_exporter": "python",
   "pygments_lexer": "ipython3",
   "version": "3.11.1"
  },
  "orig_nbformat": 4,
  "vscode": {
   "interpreter": {
    "hash": "f42f0d374e426a993297ad8a1b20e27a8a4a94d24420eacf33da535d13df20de"
   }
  }
 },
 "nbformat": 4,
 "nbformat_minor": 2
}
